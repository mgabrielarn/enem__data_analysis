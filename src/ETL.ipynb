{
  "nbformat": 4,
  "nbformat_minor": 0,
  "metadata": {
    "colab": {
      "provenance": []
    },
    "kernelspec": {
      "name": "python3",
      "display_name": "Python 3"
    },
    "language_info": {
      "name": "python"
    }
  },
  "cells": [
    {
      "cell_type": "markdown",
      "source": [
        "## Obtendo o Spark"
      ],
      "metadata": {
        "id": "e3XmgOOh8dCn"
      }
    },
    {
      "cell_type": "code",
      "execution_count": 1,
      "metadata": {
        "id": "JmcO4uWZ3OLO",
        "colab": {
          "base_uri": "https://localhost:8080/"
        },
        "outputId": "58cecb38-7340-447f-9010-8de009d17ff3"
      },
      "outputs": [
        {
          "output_type": "stream",
          "name": "stdout",
          "text": [
            "W: Skipping acquire of configured file 'main/source/Sources' as repository 'https://r2u.stat.illinois.edu/ubuntu jammy InRelease' does not seem to provide it (sources.list entry misspelt?)\n"
          ]
        }
      ],
      "source": [
        "# instalar as dependências\n",
        "!apt-get update -qq\n",
        "!apt-get install openjdk-8-jdk-headless -qq > /dev/null\n",
        "!wget -q https://archive.apache.org/dist/spark/spark-3.1.2/spark-3.1.2-bin-hadoop2.7.tgz\n",
        "!tar xf spark-3.1.2-bin-hadoop2.7.tgz\n",
        "!pip install -q findspark"
      ]
    },
    {
      "cell_type": "code",
      "execution_count": 2,
      "metadata": {
        "id": "_4Z_1m0z3sPJ"
      },
      "outputs": [],
      "source": [
        "import os\n",
        "os.environ[\"JAVA_HOME\"] = \"/usr/lib/jvm/java-8-openjdk-amd64\"\n",
        "os.environ[\"SPARK_HOME\"] = \"/content/spark-3.1.2-bin-hadoop2.7\""
      ]
    },
    {
      "cell_type": "code",
      "execution_count": 3,
      "metadata": {
        "id": "kqdft9fpGlH0"
      },
      "outputs": [],
      "source": [
        "import findspark\n",
        "findspark.init()"
      ]
    },
    {
      "cell_type": "markdown",
      "source": [
        "## Extração da Base de Dados"
      ],
      "metadata": {
        "id": "PGHUWrY38hfT"
      }
    },
    {
      "cell_type": "code",
      "source": [
        "import gdown\n",
        "\n",
        "url = \"https://drive.google.com/uc?export=download&id=1Wn_O2wc9JDsB-5uH5an6_W6b3w8yzQF-\"\n",
        "gdown.download(url, \"itens_prova.csv\", quiet=False, fuzzy=True)\n",
        "\n",
        "url = \"https://drive.google.com/file/d/1vMTcHqZHJB16CB5n09JKK2mXS5kpGQpv/view?usp=sharing\"\n",
        "gdown.download(url, \"microdados_enem.csv\", quiet=False, fuzzy=True)"
      ],
      "metadata": {
        "colab": {
          "base_uri": "https://localhost:8080/",
          "height": 192
        },
        "id": "lh1Af_uuMnGy",
        "outputId": "0a305a00-dbe9-4053-d6b9-69f58a6c215b"
      },
      "execution_count": 4,
      "outputs": [
        {
          "output_type": "stream",
          "name": "stderr",
          "text": [
            "Downloading...\n",
            "From: https://drive.google.com/uc?id=1Wn_O2wc9JDsB-5uH5an6_W6b3w8yzQF-\n",
            "To: /content/itens_prova.csv\n",
            "100%|██████████| 331k/331k [00:00<00:00, 61.0MB/s]\n",
            "Downloading...\n",
            "From (original): https://drive.google.com/uc?id=1vMTcHqZHJB16CB5n09JKK2mXS5kpGQpv\n",
            "From (redirected): https://drive.google.com/uc?id=1vMTcHqZHJB16CB5n09JKK2mXS5kpGQpv&confirm=t&uuid=a0d42ea1-ae30-4693-bb9b-84656865cfe3\n",
            "To: /content/microdados_enem.csv\n",
            "100%|██████████| 1.78G/1.78G [00:19<00:00, 90.4MB/s]\n"
          ]
        },
        {
          "output_type": "execute_result",
          "data": {
            "text/plain": [
              "'microdados_enem.csv'"
            ],
            "application/vnd.google.colaboratory.intrinsic+json": {
              "type": "string"
            }
          },
          "metadata": {},
          "execution_count": 4
        }
      ]
    },
    {
      "cell_type": "code",
      "source": [
        "from pyspark.sql import SparkSession\n",
        "\n",
        "spark = SparkSession.builder \\\n",
        "    .master('local[*]') \\\n",
        "    .appName(\"microdados_enem\") \\\n",
        "    .config('spark.ui.port', '4050') \\\n",
        "    .getOrCreate()"
      ],
      "metadata": {
        "id": "jYe3uO119FkO"
      },
      "execution_count": 5,
      "outputs": []
    },
    {
      "cell_type": "code",
      "source": [
        "path = '/content/microdados_enem.csv'\n",
        "enem = spark.read.csv(path, sep=';', inferSchema=True, header=True, encoding='ISO-8859-1')"
      ],
      "metadata": {
        "id": "u21_kNFu88jc"
      },
      "execution_count": 6,
      "outputs": []
    },
    {
      "cell_type": "code",
      "source": [
        "from pyspark.sql import functions as F\n",
        "from pyspark.sql.window import Window"
      ],
      "metadata": {
        "id": "cRvC4k5R7v6R"
      },
      "execution_count": 7,
      "outputs": []
    },
    {
      "cell_type": "code",
      "source": [
        "dim_participante = enem.select(\n",
        "    \"NU_INSCRICAO\",\n",
        "    \"TP_FAIXA_ETARIA\",\n",
        "    \"TP_SEXO\",\n",
        "    \"TP_ESTADO_CIVIL\",\n",
        "    \"TP_COR_RACA\",\n",
        "    \"TP_NACIONALIDADE\",\n",
        "    \"TP_ST_CONCLUSAO\",\n",
        "    \"TP_ANO_CONCLUIU\",\n",
        "    \"TP_ESCOLA\",\n",
        "    \"TP_ENSINO\",\n",
        "    \"IN_TREINEIRO\").dropDuplicates()"
      ],
      "metadata": {
        "id": "Smp3rgO_iBZl"
      },
      "execution_count": 8,
      "outputs": []
    },
    {
      "cell_type": "code",
      "source": [
        "dim_local_escola = enem.select(\n",
        "    \"NU_INSCRICAO\",\n",
        "    \"CO_MUNICIPIO_ESC\",\n",
        "    \"NO_MUNICIPIO_ESC\",\n",
        "    \"CO_UF_ESC\",\n",
        "    \"SG_UF_ESC\",\n",
        "    \"TP_DEPENDENCIA_ADM_ESC\",\n",
        "    \"TP_LOCALIZACAO_ESC\",\n",
        "    \"TP_SIT_FUNC_ESC\").dropDuplicates()"
      ],
      "metadata": {
        "id": "6WI2teZWiS1K"
      },
      "execution_count": 9,
      "outputs": []
    },
    {
      "cell_type": "code",
      "source": [
        "dim_local_prova = enem.select(\n",
        "    \"NU_INSCRICAO\",\n",
        "    \"CO_MUNICIPIO_PROVA\",\n",
        "    \"NO_MUNICIPIO_PROVA\",\n",
        "    \"CO_UF_PROVA\",\n",
        "    \"SG_UF_PROVA\").dropDuplicates()\n"
      ],
      "metadata": {
        "id": "XRxnAY8fj5cY"
      },
      "execution_count": 10,
      "outputs": []
    },
    {
      "cell_type": "code",
      "source": [
        "socioeconomico_columns = [f\"Q{str(i).zfill(3)}\" for i in range(1, 26)]\n",
        "\n",
        "dim_socioeconomico = enem.select([\"NU_INSCRICAO\"] + socioeconomico_columns).dropDuplicates()"
      ],
      "metadata": {
        "id": "h5mXOgEt62mS"
      },
      "execution_count": 11,
      "outputs": []
    },
    {
      "cell_type": "code",
      "source": [
        "def add_surrogate_key(df, key_name=\"id\"):\n",
        "    return df.withColumn(key_name, F.row_number().over(Window.orderBy(F.monotonically_increasing_id())))\n",
        "\n",
        "dim_participante = add_surrogate_key(dim_participante, \"ID_PARTICIPANTE\")\n",
        "dim_socioeconomico = add_surrogate_key(dim_socioeconomico, \"ID_SOCIOECONOMICO\")\n",
        "dim_local_prova = add_surrogate_key(dim_local_prova, \"ID_LOCAL_PROVA\")\n",
        "dim_local_escola = add_surrogate_key(dim_local_escola, \"ID_LOCAL_ESCOLA\")"
      ],
      "metadata": {
        "id": "vutG4bLw-MkA"
      },
      "execution_count": 12,
      "outputs": []
    },
    {
      "cell_type": "code",
      "source": [
        "fato_resultado_enem = enem.select(\n",
        "    \"NU_INSCRICAO\",\n",
        "    \"NU_ANO\",\n",
        "    \"TP_PRESENCA_CN\",\n",
        "    \"TP_PRESENCA_CH\",\n",
        "    \"TP_PRESENCA_LC\",\n",
        "    \"TP_PRESENCA_MT\",\n",
        "    \"NU_NOTA_CN\",\n",
        "    \"NU_NOTA_CH\",\n",
        "    \"NU_NOTA_LC\",\n",
        "    \"NU_NOTA_MT\",\n",
        "    \"TP_STATUS_REDACAO\",\n",
        "    \"NU_NOTA_COMP1\",\n",
        "    \"NU_NOTA_COMP2\",\n",
        "    \"NU_NOTA_COMP3\",\n",
        "    \"NU_NOTA_COMP4\",\n",
        "    \"NU_NOTA_COMP5\",\n",
        "    \"NU_NOTA_REDACAO\"\n",
        ")"
      ],
      "metadata": {
        "id": "r9jxDR5Kj-FO"
      },
      "execution_count": 13,
      "outputs": []
    },
    {
      "cell_type": "code",
      "source": [
        "fato_resultado_enem = (\n",
        "    fato_resultado_enem\n",
        "    .join(dim_participante.select(\"NU_INSCRICAO\", \"ID_PARTICIPANTE\"), on=\"NU_INSCRICAO\", how=\"left\")\n",
        "    .join(dim_socioeconomico.select(\"NU_INSCRICAO\", \"ID_SOCIOECONOMICO\"), on=\"NU_INSCRICAO\", how=\"left\")\n",
        "    .join(dim_local_prova.select(\"NU_INSCRICAO\", \"ID_LOCAL_PROVA\"), on=\"NU_INSCRICAO\", how=\"left\")\n",
        "    .join(dim_local_escola.select(\"NU_INSCRICAO\", \"ID_LOCAL_ESCOLA\"), on=\"NU_INSCRICAO\", how=\"left\")\n",
        ")\n",
        "\n",
        "# Drop NU_INSCRICAO to keep only keys\n",
        "fato_resultado_enem = fato_resultado_enem.drop(\"NU_INSCRICAO\")"
      ],
      "metadata": {
        "id": "8BbGWrkA-tU-"
      },
      "execution_count": 14,
      "outputs": []
    },
    {
      "cell_type": "code",
      "source": [
        "# Caminho base para salvar os arquivos\n",
        "output_path = \"/content/tabelas_enem\"\n",
        "\n",
        "# Cria diretório se ainda não existir\n",
        "os.makedirs(output_path, exist_ok=True)\n",
        "\n",
        "# Salva as tabelas em formato Parquet (mais eficiente para big data)\n",
        "dim_participante.write.mode(\"overwrite\").parquet(f\"{output_path}/dim_participante.parquet\")\n",
        "dim_socioeconomico.write.mode(\"overwrite\").parquet(f\"{output_path}/dim_socioeconomico.parquet\")\n",
        "dim_local_prova.write.mode(\"overwrite\").parquet(f\"{output_path}/dim_local_prova.parquet\")\n",
        "dim_local_escola.write.mode(\"overwrite\").parquet(f\"{output_path}/dim_local_escola.parquet\")\n",
        "fato_resultado_enem.write.mode(\"overwrite\").parquet(f\"{output_path}/fato_resultado_enem.parquet\")"
      ],
      "metadata": {
        "id": "rPKw-nAuFmCY"
      },
      "execution_count": 15,
      "outputs": []
    },
    {
      "cell_type": "code",
      "source": [],
      "metadata": {
        "id": "BH3mb0ANFVpR"
      },
      "execution_count": 15,
      "outputs": []
    }
  ]
}