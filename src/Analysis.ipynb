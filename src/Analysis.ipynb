{
 "cells": [
  {
   "cell_type": "code",
   "execution_count": 0,
   "metadata": {
    "application/vnd.databricks.v1+cell": {
     "cellMetadata": {
      "byteLimit": 2048000,
      "rowLimit": 10000
     },
     "inputWidgets": {},
     "nuid": "7a6cf7f2-8874-4e0d-8a73-f029d6eb579d",
     "showTitle": false,
     "tableResultSettingsMap": {},
     "title": ""
    },
    "id": "sjQMM92469sb"
   },
   "outputs": [],
   "source": [
    "import os\n",
    "from pyspark.sql import SparkSession\n",
    "from pyspark.sql import functions as F"
   ]
  },
  {
   "cell_type": "code",
   "execution_count": 0,
   "metadata": {
    "application/vnd.databricks.v1+cell": {
     "cellMetadata": {
      "byteLimit": 2048000,
      "rowLimit": 10000
     },
     "inputWidgets": {},
     "nuid": "50fa4173-565d-4839-b0ce-f1ed83c4062c",
     "showTitle": false,
     "tableResultSettingsMap": {},
     "title": ""
    }
   },
   "outputs": [],
   "source": [
    "spark = SparkSession.builder \\\n",
    "    .master('local[*]') \\\n",
    "    .appName(\"microdados_enem\") \\\n",
    "    .config('spark.ui.port', '4050') \\\n",
    "    .getOrCreate()"
   ]
  },
  {
   "cell_type": "markdown",
   "metadata": {
    "application/vnd.databricks.v1+cell": {
     "cellMetadata": {
      "byteLimit": 2048000,
      "rowLimit": 10000
     },
     "inputWidgets": {},
     "nuid": "927e1ead-9a80-42cf-ab48-386b4d7b6382",
     "showTitle": false,
     "tableResultSettingsMap": {},
     "title": ""
    },
    "id": "_L_kYHWWLUTW"
   },
   "source": [
    "## Análise e resposta às perguntas levantadas"
   ]
  },
  {
   "cell_type": "markdown",
   "metadata": {
    "application/vnd.databricks.v1+cell": {
     "cellMetadata": {
      "byteLimit": 2048000,
      "rowLimit": 10000
     },
     "inputWidgets": {},
     "nuid": "0689ded8-2670-475c-ab5d-0cd474e3d247",
     "showTitle": false,
     "tableResultSettingsMap": {},
     "title": ""
    }
   },
   "source": [
    "A medida de dispersão escolhida para entender o comportamento das notas foi a mediana (aqui calculada como o percentil 50%) de cada nota. Isto se deu porque no caso de notas, podem existir outliers que influenciariam significativamente outras medidas mais usadas, como a média."
   ]
  },
  {
   "cell_type": "markdown",
   "metadata": {
    "application/vnd.databricks.v1+cell": {
     "cellMetadata": {
      "byteLimit": 2048000,
      "rowLimit": 10000
     },
     "inputWidgets": {},
     "nuid": "e259d261-6e80-4d6f-a286-bd9d64ea42a0",
     "showTitle": false,
     "tableResultSettingsMap": {},
     "title": ""
    },
    "id": "zGPiB6HvLtSS"
   },
   "source": [
    "### 1. Existem diferenças significativas nos desempenhos de estudantes de acordo com sua Unidade da Federação?"
   ]
  },
  {
   "cell_type": "markdown",
   "metadata": {
    "application/vnd.databricks.v1+cell": {
     "cellMetadata": {
      "byteLimit": 2048000,
      "rowLimit": 10000
     },
     "inputWidgets": {},
     "nuid": "097986ad-6af9-4917-91c9-5df11d7cfdb7",
     "showTitle": false,
     "tableResultSettingsMap": {},
     "title": ""
    }
   },
   "source": [
    "Inicialmente, a ideia era fazer a análise utilizando as informações de localização da escola de cada estudante, mas por este ser um campo com muitos valores nulos (quase 3M), foi utilizada a localização de realização da prova. \n",
    "\n",
    "Já que o local de prova é de escolha do candidato (não é imposto pelo exame), espera-se que, de forma geral, ele escolha um local próximo de sua residência. Como essa análise olha apenas para UF e não para município ou cidade, o local de prova parece uma boa aproximação."
   ]
  },
  {
   "cell_type": "code",
   "execution_count": 0,
   "metadata": {
    "application/vnd.databricks.v1+cell": {
     "cellMetadata": {
      "byteLimit": 2048000,
      "rowLimit": 10000
     },
     "inputWidgets": {},
     "nuid": "95d98e2a-8aea-4793-8092-2c71a5c888ba",
     "showTitle": false,
     "tableResultSettingsMap": {},
     "title": ""
    }
   },
   "outputs": [
    {
     "output_type": "display_data",
     "data": {
      "text/html": [
       "<style scoped>\n",
       "  .table-result-container {\n",
       "    max-height: 300px;\n",
       "    overflow: auto;\n",
       "  }\n",
       "  table, th, td {\n",
       "    border: 1px solid black;\n",
       "    border-collapse: collapse;\n",
       "  }\n",
       "  th, td {\n",
       "    padding: 5px;\n",
       "  }\n",
       "  th {\n",
       "    text-align: left;\n",
       "  }\n",
       "</style><div class='table-result-container'><table class='table-result'><thead style='background-color: white'><tr><th>CO_MUNICIPIO_ESC</th><th>SG_UF_ESC</th><th>CO_MUNICIPIO_PROVA</th><th>SG_UF_PROVA</th></tr></thead><tbody><tr><td>2975449</td><td>2975449</td><td>0</td><td>0</td></tr></tbody></table></div>"
      ]
     },
     "metadata": {
      "application/vnd.databricks.v1+output": {
       "addedWidgets": {},
       "aggData": [],
       "aggError": "",
       "aggOverflow": false,
       "aggSchema": [],
       "aggSeriesLimitReached": false,
       "aggType": "",
       "arguments": {},
       "columnCustomDisplayInfos": {},
       "data": [
        [
         2975449,
         2975449,
         0,
         0
        ]
       ],
       "datasetInfos": [],
       "dbfsResultPath": null,
       "isJsonSchema": true,
       "metadata": {},
       "overflow": false,
       "plotOptions": {
        "customPlotOptions": {},
        "displayType": "table",
        "pivotAggregation": null,
        "pivotColumns": null,
        "xColumns": null,
        "yColumns": null
       },
       "removedWidgets": [],
       "schema": [
        {
         "metadata": "{}",
         "name": "CO_MUNICIPIO_ESC",
         "type": "\"long\""
        },
        {
         "metadata": "{}",
         "name": "SG_UF_ESC",
         "type": "\"long\""
        },
        {
         "metadata": "{}",
         "name": "CO_MUNICIPIO_PROVA",
         "type": "\"long\""
        },
        {
         "metadata": "{}",
         "name": "SG_UF_PROVA",
         "type": "\"long\""
        }
       ],
       "type": "table"
      }
     },
     "output_type": "display_data"
    }
   ],
   "source": [
    "df = spark.table(\"enem_raw_data\")\n",
    "\n",
    "null_counts = df.select([\n",
    "    F.sum(F.col(c).isNull().cast(\"int\")).alias(c)\n",
    "    for c in df.columns\n",
    "])\n",
    "\n",
    "display(null_counts.select('CO_MUNICIPIO_ESC', 'SG_UF_ESC', 'CO_MUNICIPIO_PROVA', 'SG_UF_PROVA'))"
   ]
  },
  {
   "cell_type": "code",
   "execution_count": 0,
   "metadata": {
    "application/vnd.databricks.v1+cell": {
     "cellMetadata": {
      "byteLimit": 2048000,
      "implicitDf": true,
      "rowLimit": 10000
     },
     "inputWidgets": {},
     "nuid": "c6143400-d997-4876-ad06-d3c1667d47e4",
     "showTitle": false,
     "tableResultSettingsMap": {},
     "title": ""
    },
    "id": "Q-X0ZEWoE611"
   },
   "outputs": [
    {
     "output_type": "display_data",
     "data": {
      "text/html": [
       "<style scoped>\n",
       "  .table-result-container {\n",
       "    max-height: 300px;\n",
       "    overflow: auto;\n",
       "  }\n",
       "  table, th, td {\n",
       "    border: 1px solid black;\n",
       "    border-collapse: collapse;\n",
       "  }\n",
       "  th, td {\n",
       "    padding: 5px;\n",
       "  }\n",
       "  th {\n",
       "    text-align: left;\n",
       "  }\n",
       "</style><div class='table-result-container'><table class='table-result'><thead style='background-color: white'><tr><th>SG_UF_PROVA</th><th>qtd_participantes</th><th>mediana_matematica</th><th>mediana_ciencias_natureza</th></tr></thead><tbody><tr><td>AC</td><td>24274</td><td>475.8</td><td>470.7</td></tr><tr><td>AL</td><td>82760</td><td>489.7</td><td>475.7</td></tr><tr><td>AM</td><td>92916</td><td>462.7</td><td>465.5</td></tr><tr><td>AP</td><td>28807</td><td>463.4</td><td>470.4</td></tr><tr><td>BA</td><td>324268</td><td>488.8</td><td>480.4</td></tr><tr><td>CE</td><td>241960</td><td>506.2</td><td>477.5</td></tr><tr><td>DF</td><td>72975</td><td>548.7</td><td>513.5</td></tr><tr><td>ES</td><td>73724</td><td>555.5</td><td>509.3</td></tr><tr><td>GO</td><td>149110</td><td>523.4</td><td>494.5</td></tr><tr><td>MA</td><td>165756</td><td>460.6</td><td>461.3</td></tr><tr><td>MG</td><td>358575</td><td>569.5</td><td>515.7</td></tr><tr><td>MS</td><td>47455</td><td>514.8</td><td>492.8</td></tr><tr><td>MT</td><td>63912</td><td>504.6</td><td>488.4</td></tr><tr><td>PA</td><td>229162</td><td>465.1</td><td>468.4</td></tr><tr><td>PB</td><td>124511</td><td>496.0</td><td>481.3</td></tr><tr><td>PE</td><td>218859</td><td>514.1</td><td>484.8</td></tr><tr><td>PI</td><td>99639</td><td>477.4</td><td>469.0</td></tr><tr><td>PR</td><td>166506</td><td>551.1</td><td>508.9</td></tr><tr><td>RJ</td><td>282296</td><td>549.7</td><td>508.1</td></tr><tr><td>RN</td><td>100706</td><td>512.2</td><td>489.6</td></tr><tr><td>RO</td><td>36038</td><td>488.6</td><td>480.3</td></tr><tr><td>RR</td><td>9639</td><td>506.4</td><td>489.2</td></tr><tr><td>RS</td><td>159919</td><td>558.7</td><td>510.5</td></tr><tr><td>SC</td><td>91263</td><td>566.1</td><td>516.6</td></tr><tr><td>SE</td><td>65540</td><td>489.8</td><td>478.8</td></tr><tr><td>SP</td><td>590767</td><td>574.8</td><td>515.5</td></tr><tr><td>TO</td><td>32618</td><td>485.0</td><td>475.1</td></tr></tbody></table></div>"
      ]
     },
     "metadata": {
      "application/vnd.databricks.v1+output": {
       "addedWidgets": {},
       "aggData": [],
       "aggError": "",
       "aggOverflow": false,
       "aggSchema": [],
       "aggSeriesLimitReached": false,
       "aggType": "",
       "arguments": {},
       "columnCustomDisplayInfos": {},
       "data": [
        [
         "AC",
         24274,
         475.8,
         470.7
        ],
        [
         "AL",
         82760,
         489.7,
         475.7
        ],
        [
         "AM",
         92916,
         462.7,
         465.5
        ],
        [
         "AP",
         28807,
         463.4,
         470.4
        ],
        [
         "BA",
         324268,
         488.8,
         480.4
        ],
        [
         "CE",
         241960,
         506.2,
         477.5
        ],
        [
         "DF",
         72975,
         548.7,
         513.5
        ],
        [
         "ES",
         73724,
         555.5,
         509.3
        ],
        [
         "GO",
         149110,
         523.4,
         494.5
        ],
        [
         "MA",
         165756,
         460.6,
         461.3
        ],
        [
         "MG",
         358575,
         569.5,
         515.7
        ],
        [
         "MS",
         47455,
         514.8,
         492.8
        ],
        [
         "MT",
         63912,
         504.6,
         488.4
        ],
        [
         "PA",
         229162,
         465.1,
         468.4
        ],
        [
         "PB",
         124511,
         496.0,
         481.3
        ],
        [
         "PE",
         218859,
         514.1,
         484.8
        ],
        [
         "PI",
         99639,
         477.4,
         469.0
        ],
        [
         "PR",
         166506,
         551.1,
         508.9
        ],
        [
         "RJ",
         282296,
         549.7,
         508.1
        ],
        [
         "RN",
         100706,
         512.2,
         489.6
        ],
        [
         "RO",
         36038,
         488.6,
         480.3
        ],
        [
         "RR",
         9639,
         506.4,
         489.2
        ],
        [
         "RS",
         159919,
         558.7,
         510.5
        ],
        [
         "SC",
         91263,
         566.1,
         516.6
        ],
        [
         "SE",
         65540,
         489.8,
         478.8
        ],
        [
         "SP",
         590767,
         574.8,
         515.5
        ],
        [
         "TO",
         32618,
         485.0,
         475.1
        ]
       ],
       "datasetInfos": [],
       "dbfsResultPath": null,
       "isJsonSchema": true,
       "metadata": {},
       "overflow": false,
       "plotOptions": {
        "customPlotOptions": {},
        "displayType": "table",
        "pivotAggregation": null,
        "pivotColumns": null,
        "xColumns": null,
        "yColumns": null
       },
       "removedWidgets": [],
       "schema": [
        {
         "metadata": "{}",
         "name": "SG_UF_PROVA",
         "type": "\"string\""
        },
        {
         "metadata": "{}",
         "name": "qtd_participantes",
         "type": "\"long\""
        },
        {
         "metadata": "{}",
         "name": "mediana_matematica",
         "type": "\"double\""
        },
        {
         "metadata": "{}",
         "name": "mediana_ciencias_natureza",
         "type": "\"double\""
        }
       ],
       "type": "table"
      }
     },
     "output_type": "display_data"
    }
   ],
   "source": [
    "%sql\n",
    "SELECT\n",
    "    dlp.SG_UF_PROVA,\n",
    "    COUNT(*) AS qtd_participantes,\n",
    "    ROUND(PERCENTILE_APPROX(fre.NU_NOTA_MT, 0.5), 2) AS mediana_matematica,\n",
    "    ROUND(PERCENTILE_APPROX(fre.NU_NOTA_CN, 0.5), 2) AS mediana_ciencias_natureza\n",
    "\n",
    "FROM fato_resultado_enem fre\n",
    "LEFT JOIN dim_local_prova dlp\n",
    "    ON fre.ID_LOCAL_PROVA = dlp.ID_LOCAL_PROVA\n",
    "GROUP BY dlp.SG_UF_PROVA\n",
    "ORDER BY dlp.SG_UF_PROVA"
   ]
  },
  {
   "cell_type": "markdown",
   "metadata": {
    "application/vnd.databricks.v1+cell": {
     "cellMetadata": {
      "byteLimit": 2048000,
      "rowLimit": 10000
     },
     "inputWidgets": {},
     "nuid": "8b7729ad-8cc9-45d4-91b6-b8a46cc46752",
     "showTitle": false,
     "tableResultSettingsMap": {},
     "title": ""
    }
   },
   "source": [
    "Em relação às notas de matemática, a unidade da federação com melhor desempenho médio foi SP, seguida por MG, SC, RS e ES. As UFs com pior desempenho foram MA, AM, AP, PA e AC.\n",
    "\n",
    "Já em relação à Ciências da Natureza, a UF melhor classificada foi SC, seguida por MG, SP, DF e RS. A unidade com pior classificação também foi MA, seguida por AM, PA, PI e AP. "
   ]
  },
  {
   "cell_type": "markdown",
   "metadata": {
    "application/vnd.databricks.v1+cell": {
     "cellMetadata": {
      "byteLimit": 2048000,
      "rowLimit": 10000
     },
     "inputWidgets": {},
     "nuid": "17f5bb2c-f251-46f0-8918-9cfc1b39b44e",
     "showTitle": false,
     "tableResultSettingsMap": {},
     "title": ""
    }
   },
   "source": [
    "### 2. Existem diferenças significativas nos desempenhos de estudantes do sexo masculino e feminino?"
   ]
  },
  {
   "cell_type": "code",
   "execution_count": 0,
   "metadata": {
    "application/vnd.databricks.v1+cell": {
     "cellMetadata": {
      "byteLimit": 2048000,
      "implicitDf": true,
      "rowLimit": 10000
     },
     "inputWidgets": {},
     "nuid": "8c27b1d1-66d5-42b4-bb6f-2a0b9041f0a8",
     "showTitle": false,
     "tableResultSettingsMap": {},
     "title": ""
    }
   },
   "outputs": [
    {
     "output_type": "display_data",
     "data": {
      "text/html": [
       "<style scoped>\n",
       "  .table-result-container {\n",
       "    max-height: 300px;\n",
       "    overflow: auto;\n",
       "  }\n",
       "  table, th, td {\n",
       "    border: 1px solid black;\n",
       "    border-collapse: collapse;\n",
       "  }\n",
       "  th, td {\n",
       "    padding: 5px;\n",
       "  }\n",
       "  th {\n",
       "    text-align: left;\n",
       "  }\n",
       "</style><div class='table-result-container'><table class='table-result'><thead style='background-color: white'><tr><th>TP_SEXO</th><th>qtd_participantes</th><th>mediana_matematica</th><th>mediana_ciencias_natureza</th></tr></thead><tbody><tr><td>F</td><td>2411185</td><td>503.1</td><td>483.7</td></tr><tr><td>M</td><td>1522770</td><td>561.1</td><td>512.2</td></tr></tbody></table></div>"
      ]
     },
     "metadata": {
      "application/vnd.databricks.v1+output": {
       "addedWidgets": {},
       "aggData": [],
       "aggError": "",
       "aggOverflow": false,
       "aggSchema": [],
       "aggSeriesLimitReached": false,
       "aggType": "",
       "arguments": {},
       "columnCustomDisplayInfos": {},
       "data": [
        [
         "F",
         2411185,
         503.1,
         483.7
        ],
        [
         "M",
         1522770,
         561.1,
         512.2
        ]
       ],
       "datasetInfos": [],
       "dbfsResultPath": null,
       "isJsonSchema": true,
       "metadata": {},
       "overflow": false,
       "plotOptions": {
        "customPlotOptions": {},
        "displayType": "table",
        "pivotAggregation": null,
        "pivotColumns": null,
        "xColumns": null,
        "yColumns": null
       },
       "removedWidgets": [],
       "schema": [
        {
         "metadata": "{}",
         "name": "TP_SEXO",
         "type": "\"string\""
        },
        {
         "metadata": "{}",
         "name": "qtd_participantes",
         "type": "\"long\""
        },
        {
         "metadata": "{}",
         "name": "mediana_matematica",
         "type": "\"double\""
        },
        {
         "metadata": "{}",
         "name": "mediana_ciencias_natureza",
         "type": "\"double\""
        }
       ],
       "type": "table"
      }
     },
     "output_type": "display_data"
    }
   ],
   "source": [
    "%sql\n",
    "SELECT\n",
    "    dp.TP_SEXO,\n",
    "    COUNT(*) AS qtd_participantes,\n",
    "    ROUND(PERCENTILE_APPROX(fre.NU_NOTA_MT, 0.5), 2) AS mediana_matematica,\n",
    "    ROUND(PERCENTILE_APPROX(fre.NU_NOTA_CN, 0.5), 2) AS mediana_ciencias_natureza\n",
    "\n",
    "FROM fato_resultado_enem fre\n",
    "LEFT JOIN dim_participante dp\n",
    "    ON fre.ID_PARTICIPANTE = dp.ID_PARTICIPANTE\n",
    "GROUP BY dp.TP_SEXO\n",
    "ORDER BY dp.TP_SEXO"
   ]
  },
  {
   "cell_type": "markdown",
   "metadata": {
    "application/vnd.databricks.v1+cell": {
     "cellMetadata": {
      "byteLimit": 2048000,
      "rowLimit": 10000
     },
     "inputWidgets": {},
     "nuid": "afc2a1cd-5aed-4645-b9bf-47fff3cfa149",
     "showTitle": false,
     "tableResultSettingsMap": {},
     "title": ""
    }
   },
   "source": [
    "É possível ver que tanto para matemática quanto para ciências da natureza, os estudantes do sexo masculino apresentam desempenho superior às estudantes do sexo feminino de forma geral."
   ]
  },
  {
   "cell_type": "markdown",
   "metadata": {
    "application/vnd.databricks.v1+cell": {
     "cellMetadata": {
      "byteLimit": 2048000,
      "rowLimit": 10000
     },
     "inputWidgets": {},
     "nuid": "99181ed6-1ddc-4d46-b10e-48ea9eb053d1",
     "showTitle": false,
     "tableResultSettingsMap": {},
     "title": ""
    }
   },
   "source": [
    "### 3. Existem diferenças significativas nos desempenhos de estudantes de acordo com sua cor/raça/etnia?"
   ]
  },
  {
   "cell_type": "code",
   "execution_count": 0,
   "metadata": {
    "application/vnd.databricks.v1+cell": {
     "cellMetadata": {
      "byteLimit": 2048000,
      "implicitDf": true,
      "rowLimit": 10000
     },
     "inputWidgets": {},
     "nuid": "b08ab023-cacd-4e9f-8f26-66971019bf04",
     "showTitle": false,
     "tableResultSettingsMap": {},
     "title": ""
    }
   },
   "outputs": [
    {
     "output_type": "display_data",
     "data": {
      "text/html": [
       "<style scoped>\n",
       "  .table-result-container {\n",
       "    max-height: 300px;\n",
       "    overflow: auto;\n",
       "  }\n",
       "  table, th, td {\n",
       "    border: 1px solid black;\n",
       "    border-collapse: collapse;\n",
       "  }\n",
       "  th, td {\n",
       "    padding: 5px;\n",
       "  }\n",
       "  th {\n",
       "    text-align: left;\n",
       "  }\n",
       "</style><div class='table-result-container'><table class='table-result'><thead style='background-color: white'><tr><th>raca_cor</th><th>qtd_participantes</th><th>mediana_matematica</th><th>mediana_ciencias_natureza</th></tr></thead><tbody><tr><td>Não declarado</td><td>52575</td><td>523.0</td><td>498.9</td></tr><tr><td>Branca</td><td>1575848</td><td>574.2</td><td>517.5</td></tr><tr><td>Preta</td><td>509511</td><td>478.6</td><td>473.9</td></tr><tr><td>Parda</td><td>1706798</td><td>492.5</td><td>478.1</td></tr><tr><td>Amarela</td><td>64512</td><td>517.1</td><td>489.9</td></tr><tr><td>Indígena</td><td>24711</td><td>442.0</td><td>451.0</td></tr></tbody></table></div>"
      ]
     },
     "metadata": {
      "application/vnd.databricks.v1+output": {
       "addedWidgets": {},
       "aggData": [],
       "aggError": "",
       "aggOverflow": false,
       "aggSchema": [],
       "aggSeriesLimitReached": false,
       "aggType": "",
       "arguments": {},
       "columnCustomDisplayInfos": {},
       "data": [
        [
         "Não declarado",
         52575,
         523.0,
         498.9
        ],
        [
         "Branca",
         1575848,
         574.2,
         517.5
        ],
        [
         "Preta",
         509511,
         478.6,
         473.9
        ],
        [
         "Parda",
         1706798,
         492.5,
         478.1
        ],
        [
         "Amarela",
         64512,
         517.1,
         489.9
        ],
        [
         "Indígena",
         24711,
         442.0,
         451.0
        ]
       ],
       "datasetInfos": [],
       "dbfsResultPath": null,
       "isJsonSchema": true,
       "metadata": {},
       "overflow": false,
       "plotOptions": {
        "customPlotOptions": {},
        "displayType": "table",
        "pivotAggregation": null,
        "pivotColumns": null,
        "xColumns": null,
        "yColumns": null
       },
       "removedWidgets": [],
       "schema": [
        {
         "metadata": "{}",
         "name": "raca_cor",
         "type": "\"string\""
        },
        {
         "metadata": "{}",
         "name": "qtd_participantes",
         "type": "\"long\""
        },
        {
         "metadata": "{}",
         "name": "mediana_matematica",
         "type": "\"double\""
        },
        {
         "metadata": "{}",
         "name": "mediana_ciencias_natureza",
         "type": "\"double\""
        }
       ],
       "type": "table"
      }
     },
     "output_type": "display_data"
    }
   ],
   "source": [
    "%sql\n",
    "SELECT\n",
    "    CASE dp.TP_COR_RACA\n",
    "        WHEN 0 THEN 'Não declarado'\n",
    "        WHEN 1 THEN 'Branca'\n",
    "        WHEN 2 THEN 'Preta'\n",
    "        WHEN 3 THEN 'Parda'\n",
    "        WHEN 4 THEN 'Amarela'\n",
    "        WHEN 5 THEN 'Indígena'\n",
    "        ELSE 'Desconhecido'\n",
    "    END AS raca_cor,\n",
    "\n",
    "    COUNT(*) AS qtd_participantes,\n",
    "    ROUND(PERCENTILE_APPROX(fre.NU_NOTA_MT, 0.5), 2) AS mediana_matematica,\n",
    "    ROUND(PERCENTILE_APPROX(fre.NU_NOTA_CN, 0.5), 2) AS mediana_ciencias_natureza\n",
    "\n",
    "FROM fato_resultado_enem fre\n",
    "LEFT JOIN dim_participante dp\n",
    "    ON fre.ID_PARTICIPANTE = dp.ID_PARTICIPANTE\n",
    "GROUP BY dp.TP_COR_RACA\n",
    "ORDER BY dp.TP_COR_RACA"
   ]
  },
  {
   "cell_type": "markdown",
   "metadata": {
    "application/vnd.databricks.v1+cell": {
     "cellMetadata": {
      "byteLimit": 2048000,
      "rowLimit": 10000
     },
     "inputWidgets": {},
     "nuid": "785a936c-6fb9-4864-a4d1-adcaf8fb42ff",
     "showTitle": false,
     "tableResultSettingsMap": {},
     "title": ""
    }
   },
   "source": [
    "De acordo com a visão, estudantes com etnia \"Branca\" são os que possuem melhor desempenho médio dentre todos. Em seguida estão os sem declaração (raça/cor = Não declarado) e então raça/cor \"Amarela\", \"Parda\", \"Preta\" e \"Indígena\".\n",
    "\n",
    "A quantidade de participantes com declaração \"Amarela\", \"Indígena\" e \"Não declarado\" é significativamente menor que as demais (1.64%, 0.63% e 1.34% do total, respectivamente) o que dificulta a comparação dos resultados. Seria interessante repetir a análise em outros anos ou combinar com outras análises similares"
   ]
  },
  {
   "cell_type": "markdown",
   "metadata": {
    "application/vnd.databricks.v1+cell": {
     "cellMetadata": {
      "byteLimit": 2048000,
      "rowLimit": 10000
     },
     "inputWidgets": {},
     "nuid": "994de57d-2e2d-4626-a692-b02b8027377d",
     "showTitle": false,
     "tableResultSettingsMap": {},
     "title": ""
    }
   },
   "source": [
    "###4. Existem diferenças significativas nos desempenhos de estudantes de acordo com o tipo da escola que frenquentaram?"
   ]
  },
  {
   "cell_type": "code",
   "execution_count": 0,
   "metadata": {
    "application/vnd.databricks.v1+cell": {
     "cellMetadata": {
      "byteLimit": 2048000,
      "implicitDf": true,
      "rowLimit": 10000
     },
     "inputWidgets": {},
     "nuid": "fa763055-c1ba-4c2f-b6fe-3708a1629169",
     "showTitle": false,
     "tableResultSettingsMap": {},
     "title": ""
    }
   },
   "outputs": [
    {
     "output_type": "display_data",
     "data": {
      "text/html": [
       "<style scoped>\n",
       "  .table-result-container {\n",
       "    max-height: 300px;\n",
       "    overflow: auto;\n",
       "  }\n",
       "  table, th, td {\n",
       "    border: 1px solid black;\n",
       "    border-collapse: collapse;\n",
       "  }\n",
       "  th, td {\n",
       "    padding: 5px;\n",
       "  }\n",
       "  th {\n",
       "    text-align: left;\n",
       "  }\n",
       "</style><div class='table-result-container'><table class='table-result'><thead style='background-color: white'><tr><th>tipo_escola</th><th>qtd_participantes</th><th>mediana_matematica</th><th>mediana_ciencias_natureza</th></tr></thead><tbody><tr><td>Não respondeu</td><td>2532796</td><td>526.0</td><td>498.4</td></tr><tr><td>Pública</td><td>1166540</td><td>492.4</td><td>473.2</td></tr><tr><td>Privada</td><td>234619</td><td>646.6</td><td>552.5</td></tr></tbody></table></div>"
      ]
     },
     "metadata": {
      "application/vnd.databricks.v1+output": {
       "addedWidgets": {},
       "aggData": [],
       "aggError": "",
       "aggOverflow": false,
       "aggSchema": [],
       "aggSeriesLimitReached": false,
       "aggType": "",
       "arguments": {},
       "columnCustomDisplayInfos": {},
       "data": [
        [
         "Não respondeu",
         2532796,
         526.0,
         498.4
        ],
        [
         "Pública",
         1166540,
         492.4,
         473.2
        ],
        [
         "Privada",
         234619,
         646.6,
         552.5
        ]
       ],
       "datasetInfos": [],
       "dbfsResultPath": null,
       "isJsonSchema": true,
       "metadata": {},
       "overflow": false,
       "plotOptions": {
        "customPlotOptions": {},
        "displayType": "table",
        "pivotAggregation": null,
        "pivotColumns": null,
        "xColumns": null,
        "yColumns": null
       },
       "removedWidgets": [],
       "schema": [
        {
         "metadata": "{}",
         "name": "tipo_escola",
         "type": "\"string\""
        },
        {
         "metadata": "{}",
         "name": "qtd_participantes",
         "type": "\"long\""
        },
        {
         "metadata": "{}",
         "name": "mediana_matematica",
         "type": "\"double\""
        },
        {
         "metadata": "{}",
         "name": "mediana_ciencias_natureza",
         "type": "\"double\""
        }
       ],
       "type": "table"
      }
     },
     "output_type": "display_data"
    }
   ],
   "source": [
    "%sql\n",
    "SELECT\n",
    "    CASE dp.TP_ESCOLA\n",
    "        WHEN 1 THEN 'Não respondeu'\n",
    "        WHEN 2 THEN 'Pública'\n",
    "        WHEN 3 THEN 'Privada'\n",
    "        ELSE 'Não informado'\n",
    "    END AS tipo_escola,\n",
    "\n",
    "    COUNT(*) AS qtd_participantes,\n",
    "    ROUND(PERCENTILE_APPROX(fre.NU_NOTA_MT, 0.5), 2) AS mediana_matematica,\n",
    "    ROUND(PERCENTILE_APPROX(fre.NU_NOTA_CN, 0.5), 2) AS mediana_ciencias_natureza\n",
    "\n",
    "FROM fato_resultado_enem fre\n",
    "LEFT JOIN dim_participante dp\n",
    "    ON fre.ID_PARTICIPANTE = dp.ID_PARTICIPANTE\n",
    "GROUP BY dp.TP_ESCOLA\n",
    "ORDER BY dp.TP_ESCOLA"
   ]
  },
  {
   "cell_type": "markdown",
   "metadata": {
    "application/vnd.databricks.v1+cell": {
     "cellMetadata": {
      "byteLimit": 2048000,
      "rowLimit": 10000
     },
     "inputWidgets": {},
     "nuid": "b22ef858-4e32-447f-924c-029b5ead2b84",
     "showTitle": false,
     "tableResultSettingsMap": {},
     "title": ""
    }
   },
   "source": [
    "Neste caso, os estudantes de escola privada apresentam melhor desempenho, seguidos pelos estudantes cujo tipo de escola não foi identificado e por último, os estudantes de escola pública.\n",
    "\n",
    "É interessante oservar que para a imensa maioria dos respondentes (64.38%) não foi possível determinar o tipo de escola em que estudaram. Sendo assim, ainda que seja possível comparar as notas dos três grupos, não parecem amostras representativas da população e o melhor seria desconsiderar a análise por enquanto e investir tempo em técnicas para melhorar a qualidade dos dados."
   ]
  },
  {
   "cell_type": "markdown",
   "metadata": {
    "application/vnd.databricks.v1+cell": {
     "cellMetadata": {
      "byteLimit": 2048000,
      "rowLimit": 10000
     },
     "inputWidgets": {},
     "nuid": "946117ff-468e-4d20-a8e4-6101fe7ee3b8",
     "showTitle": false,
     "tableResultSettingsMap": {},
     "title": ""
    }
   },
   "source": [
    "### 5. Existem diferenças significativas nos desempenhos de estudantes de acordo com o nível de escolaridade que seus pais recebram?"
   ]
  },
  {
   "cell_type": "markdown",
   "metadata": {
    "application/vnd.databricks.v1+cell": {
     "cellMetadata": {
      "byteLimit": 2048000,
      "rowLimit": 10000
     },
     "inputWidgets": {},
     "nuid": "f23d2159-2b3e-44e2-bd44-fdcb1c35623f",
     "showTitle": false,
     "tableResultSettingsMap": {},
     "title": ""
    }
   },
   "source": [
    "#### Análise de acordo com o nível escolar da mãe"
   ]
  },
  {
   "cell_type": "code",
   "execution_count": 0,
   "metadata": {
    "application/vnd.databricks.v1+cell": {
     "cellMetadata": {
      "byteLimit": 2048000,
      "implicitDf": true,
      "rowLimit": 10000
     },
     "inputWidgets": {},
     "nuid": "f5226f2a-1b4c-45a5-888f-eb9808122ae6",
     "showTitle": false,
     "tableResultSettingsMap": {},
     "title": ""
    }
   },
   "outputs": [
    {
     "output_type": "display_data",
     "data": {
      "text/html": [
       "<style scoped>\n",
       "  .table-result-container {\n",
       "    max-height: 300px;\n",
       "    overflow: auto;\n",
       "  }\n",
       "  table, th, td {\n",
       "    border: 1px solid black;\n",
       "    border-collapse: collapse;\n",
       "  }\n",
       "  th, td {\n",
       "    padding: 5px;\n",
       "  }\n",
       "  th {\n",
       "    text-align: left;\n",
       "  }\n",
       "</style><div class='table-result-container'><table class='table-result'><thead style='background-color: white'><tr><th>escolaridade_mae</th><th>qtd_participantes</th><th>mediana_matematica</th><th>mediana_ciencias_natureza</th></tr></thead><tbody><tr><td>Nunca estudou.</td><td>110831</td><td>425.3</td><td>454.5</td></tr><tr><td>Não completou a 4ª série/5º ano do EF.</td><td>505525</td><td>455.4</td><td>465.3</td></tr><tr><td>Completou a 4ª série/5º ano do EF, mas não a 8ª série/9º ano.</td><td>437022</td><td>476.6</td><td>471.7</td></tr><tr><td>Completou a 8ª série/9º ano do EF, mas não o ensino médio.</td><td>473854</td><td>490.3</td><td>476.0</td></tr><tr><td>Completou o Ensino Médio, mas não completou a Faculdade.</td><td>1377605</td><td>525.6</td><td>493.3</td></tr><tr><td>Completou a Faculdade, mas não completou a Pós-graduação.</td><td>455268</td><td>603.9</td><td>531.3</td></tr><tr><td>Completou a Pós-graduação.</td><td>441893</td><td>622.5</td><td>540.6</td></tr><tr><td>Não sei.</td><td>131957</td><td>463.1</td><td>462.5</td></tr></tbody></table></div>"
      ]
     },
     "metadata": {
      "application/vnd.databricks.v1+output": {
       "addedWidgets": {},
       "aggData": [],
       "aggError": "",
       "aggOverflow": false,
       "aggSchema": [],
       "aggSeriesLimitReached": false,
       "aggType": "",
       "arguments": {},
       "columnCustomDisplayInfos": {},
       "data": [
        [
         "Nunca estudou.",
         110831,
         425.3,
         454.5
        ],
        [
         "Não completou a 4ª série/5º ano do EF.",
         505525,
         455.4,
         465.3
        ],
        [
         "Completou a 4ª série/5º ano do EF, mas não a 8ª série/9º ano.",
         437022,
         476.6,
         471.7
        ],
        [
         "Completou a 8ª série/9º ano do EF, mas não o ensino médio.",
         473854,
         490.3,
         476.0
        ],
        [
         "Completou o Ensino Médio, mas não completou a Faculdade.",
         1377605,
         525.6,
         493.3
        ],
        [
         "Completou a Faculdade, mas não completou a Pós-graduação.",
         455268,
         603.9,
         531.3
        ],
        [
         "Completou a Pós-graduação.",
         441893,
         622.5,
         540.6
        ],
        [
         "Não sei.",
         131957,
         463.1,
         462.5
        ]
       ],
       "datasetInfos": [],
       "dbfsResultPath": null,
       "isJsonSchema": true,
       "metadata": {},
       "overflow": false,
       "plotOptions": {
        "customPlotOptions": {},
        "displayType": "table",
        "pivotAggregation": null,
        "pivotColumns": null,
        "xColumns": null,
        "yColumns": null
       },
       "removedWidgets": [],
       "schema": [
        {
         "metadata": "{}",
         "name": "escolaridade_mae",
         "type": "\"string\""
        },
        {
         "metadata": "{}",
         "name": "qtd_participantes",
         "type": "\"long\""
        },
        {
         "metadata": "{}",
         "name": "mediana_matematica",
         "type": "\"double\""
        },
        {
         "metadata": "{}",
         "name": "mediana_ciencias_natureza",
         "type": "\"double\""
        }
       ],
       "type": "table"
      }
     },
     "output_type": "display_data"
    }
   ],
   "source": [
    "%sql\n",
    "    SELECT\n",
    "    CASE ds.Q002\n",
    "        WHEN 'A' THEN 'Nunca estudou.'\n",
    "        WHEN 'B' THEN 'Não completou a 4ª série/5º ano do EF.'\n",
    "        WHEN 'C' THEN 'Completou a 4ª série/5º ano do EF, mas não a 8ª série/9º ano.'\n",
    "        WHEN 'D' THEN 'Completou a 8ª série/9º ano do EF, mas não o ensino médio.'\n",
    "        WHEN 'E' THEN 'Completou o Ensino Médio, mas não completou a Faculdade.'\n",
    "        WHEN 'F' THEN 'Completou a Faculdade, mas não completou a Pós-graduação.'\n",
    "        WHEN 'G' THEN 'Completou a Pós-graduação.'\n",
    "        WHEN 'H' THEN 'Não sei.'\n",
    "        ELSE 'Não informado'\n",
    "    END AS escolaridade_mae,\n",
    "\n",
    "    COUNT(*) AS qtd_participantes,\n",
    "    ROUND(PERCENTILE_APPROX(fre.NU_NOTA_MT, 0.5), 2) AS mediana_matematica,\n",
    "    ROUND(PERCENTILE_APPROX(fre.NU_NOTA_CN, 0.5), 2) AS mediana_ciencias_natureza\n",
    "\n",
    "    FROM fato_resultado_enem fre\n",
    "    LEFT JOIN dim_socioeconomico ds\n",
    "        ON fre.ID_SOCIOECONOMICO = ds.ID_SOCIOECONOMICO\n",
    "    GROUP BY ds.Q002\n",
    "    ORDER BY ds.Q002"
   ]
  },
  {
   "cell_type": "markdown",
   "metadata": {
    "application/vnd.databricks.v1+cell": {
     "cellMetadata": {
      "byteLimit": 2048000,
      "rowLimit": 10000
     },
     "inputWidgets": {},
     "nuid": "a2fe20d2-4449-4f59-980f-d2bd16d80104",
     "showTitle": false,
     "tableResultSettingsMap": {},
     "title": ""
    }
   },
   "source": [
    "Avaliando as notas de acordo com o nível de escolaridade da mãe, percebe-se que o grupo com melhor desempenho é o com mães que completaram a pós graduação (maior nível de escolaridade disponível dentre as opções), seguidos pelas que completaram a faculdade, o ensino médio, o ensino fundamental e assim por diante.\n",
    "\n",
    "Esta distribuição faz sentido pois pais com maior nível de escolaridade tendem a valorizar mais o desempenho escolar de seus filhos, já que eles também se preocupam com a própria educação."
   ]
  },
  {
   "cell_type": "markdown",
   "metadata": {
    "application/vnd.databricks.v1+cell": {
     "cellMetadata": {
      "byteLimit": 2048000,
      "rowLimit": 10000
     },
     "inputWidgets": {},
     "nuid": "33a5e228-a2ff-49be-a728-4e95c3618364",
     "showTitle": false,
     "tableResultSettingsMap": {},
     "title": ""
    }
   },
   "source": [
    "#### Análise de acordo com o nível escolar do pai"
   ]
  },
  {
   "cell_type": "code",
   "execution_count": 0,
   "metadata": {
    "application/vnd.databricks.v1+cell": {
     "cellMetadata": {
      "byteLimit": 2048000,
      "implicitDf": true,
      "rowLimit": 10000
     },
     "inputWidgets": {},
     "nuid": "9afe715a-b001-4651-86f8-57e4020380a4",
     "showTitle": false,
     "tableResultSettingsMap": {},
     "title": ""
    }
   },
   "outputs": [
    {
     "output_type": "display_data",
     "data": {
      "text/html": [
       "<style scoped>\n",
       "  .table-result-container {\n",
       "    max-height: 300px;\n",
       "    overflow: auto;\n",
       "  }\n",
       "  table, th, td {\n",
       "    border: 1px solid black;\n",
       "    border-collapse: collapse;\n",
       "  }\n",
       "  th, td {\n",
       "    padding: 5px;\n",
       "  }\n",
       "  th {\n",
       "    text-align: left;\n",
       "  }\n",
       "</style><div class='table-result-container'><table class='table-result'><thead style='background-color: white'><tr><th>escolaridade_pai</th><th>qtd_participantes</th><th>mediana_matematica</th><th>mediana_ciencias_natureza</th></tr></thead><tbody><tr><td>Nunca estudou</td><td>174712</td><td>435.3</td><td>456.1</td></tr><tr><td>Não completou a 4ª série/5º ano do EF</td><td>700175</td><td>467.0</td><td>469.0</td></tr><tr><td>Completou a 4ª série/5º ano do EF, mas não a 8ª série/9º ano</td><td>513213</td><td>493.8</td><td>478.8</td></tr><tr><td>Completou a 8ª série/9º ano do EF, mas não o ensino médio</td><td>438139</td><td>508.0</td><td>484.2</td></tr><tr><td>Completou o Ensino Médio, mas não completou a Faculdade.</td><td>1114164</td><td>541.8</td><td>501.2</td></tr><tr><td>Completou a Faculdade, mas não completou a Pós-graduação.</td><td>333981</td><td>627.4</td><td>543.4</td></tr><tr><td>Completou a Pós-graduação.</td><td>256045</td><td>650.7</td><td>555.3</td></tr><tr><td>Não sei.</td><td>403526</td><td>482.8</td><td>473.4</td></tr></tbody></table></div>"
      ]
     },
     "metadata": {
      "application/vnd.databricks.v1+output": {
       "addedWidgets": {},
       "aggData": [],
       "aggError": "",
       "aggOverflow": false,
       "aggSchema": [],
       "aggSeriesLimitReached": false,
       "aggType": "",
       "arguments": {},
       "columnCustomDisplayInfos": {},
       "data": [
        [
         "Nunca estudou",
         174712,
         435.3,
         456.1
        ],
        [
         "Não completou a 4ª série/5º ano do EF",
         700175,
         467.0,
         469.0
        ],
        [
         "Completou a 4ª série/5º ano do EF, mas não a 8ª série/9º ano",
         513213,
         493.8,
         478.8
        ],
        [
         "Completou a 8ª série/9º ano do EF, mas não o ensino médio",
         438139,
         508.0,
         484.2
        ],
        [
         "Completou o Ensino Médio, mas não completou a Faculdade.",
         1114164,
         541.8,
         501.2
        ],
        [
         "Completou a Faculdade, mas não completou a Pós-graduação.",
         333981,
         627.4,
         543.4
        ],
        [
         "Completou a Pós-graduação.",
         256045,
         650.7,
         555.3
        ],
        [
         "Não sei.",
         403526,
         482.8,
         473.4
        ]
       ],
       "datasetInfos": [],
       "dbfsResultPath": null,
       "isJsonSchema": true,
       "metadata": {},
       "overflow": false,
       "plotOptions": {
        "customPlotOptions": {},
        "displayType": "table",
        "pivotAggregation": null,
        "pivotColumns": null,
        "xColumns": null,
        "yColumns": null
       },
       "removedWidgets": [],
       "schema": [
        {
         "metadata": "{}",
         "name": "escolaridade_pai",
         "type": "\"string\""
        },
        {
         "metadata": "{}",
         "name": "qtd_participantes",
         "type": "\"long\""
        },
        {
         "metadata": "{}",
         "name": "mediana_matematica",
         "type": "\"double\""
        },
        {
         "metadata": "{}",
         "name": "mediana_ciencias_natureza",
         "type": "\"double\""
        }
       ],
       "type": "table"
      }
     },
     "output_type": "display_data"
    }
   ],
   "source": [
    "%sql\n",
    "    SELECT\n",
    "    CASE ds.Q001\n",
    "        WHEN 'A' THEN 'Nunca estudou'\n",
    "        WHEN 'B' THEN 'Não completou a 4ª série/5º ano do EF'\n",
    "        WHEN 'C' THEN 'Completou a 4ª série/5º ano do EF, mas não a 8ª série/9º ano'\n",
    "        WHEN 'D' THEN 'Completou a 8ª série/9º ano do EF, mas não o ensino médio'\n",
    "        WHEN 'E' THEN 'Completou o Ensino Médio, mas não completou a Faculdade.'\n",
    "        WHEN 'F' THEN 'Completou a Faculdade, mas não completou a Pós-graduação.'\n",
    "        WHEN 'G' THEN 'Completou a Pós-graduação.'\n",
    "        WHEN 'H' THEN 'Não sei.'\n",
    "        ELSE 'Não informado'\n",
    "    END AS escolaridade_pai,\n",
    "\n",
    "    COUNT(*) AS qtd_participantes,\n",
    "    ROUND(PERCENTILE_APPROX(fre.NU_NOTA_MT, 0.5), 2) AS mediana_matematica,\n",
    "    ROUND(PERCENTILE_APPROX(fre.NU_NOTA_CN, 0.5), 2) AS mediana_ciencias_natureza\n",
    "\n",
    "    FROM fato_resultado_enem fre\n",
    "    LEFT JOIN dim_socioeconomico ds\n",
    "        ON fre.ID_SOCIOECONOMICO = ds.ID_SOCIOECONOMICO\n",
    "    GROUP BY ds.Q001\n",
    "    ORDER BY ds.Q001"
   ]
  },
  {
   "cell_type": "markdown",
   "metadata": {
    "application/vnd.databricks.v1+cell": {
     "cellMetadata": {
      "byteLimit": 2048000,
      "rowLimit": 10000
     },
     "inputWidgets": {},
     "nuid": "29f0af70-a416-4451-bf66-4c72f8d91ea2",
     "showTitle": false,
     "tableResultSettingsMap": {},
     "title": ""
    }
   },
   "source": [
    "Em relação à escolaridade do pai, vê-se a mesma relação de quanto maior a escolaridade, maior o desempenho do filho. "
   ]
  },
  {
   "cell_type": "markdown",
   "metadata": {
    "application/vnd.databricks.v1+cell": {
     "cellMetadata": {
      "byteLimit": 2048000,
      "rowLimit": 10000
     },
     "inputWidgets": {},
     "nuid": "c411e3c7-04e8-4667-873a-49f3a930d7de",
     "showTitle": false,
     "tableResultSettingsMap": {},
     "title": ""
    }
   },
   "source": [
    "### Autoavaliação\n",
    "\n",
    "De forma geral, os objetivos definidos no início do projeto foram atendidos já que as perguntas propostas foram respondidas. É importante lembrar que o projeto teve como base os microdados do ENEM de 2023 e os comportamentos observados podem não ser recorrentes em outros anos.\n",
    "\n",
    "\n",
    "Pensando em evoluções futuras, seria interessante reunir microdados do ENEM de anos anteriores e refazer essas análises para entender se os comportamentos observados são ou não pontuais e se precisam de políticas públicas específicas que os envolvam."
   ]
  }
 ],
 "metadata": {
  "application/vnd.databricks.v1+notebook": {
   "computePreferences": null,
   "dashboards": [],
   "environmentMetadata": null,
   "inputWidgetPreferences": null,
   "language": "python",
   "notebookMetadata": {
    "mostRecentlyExecutedCommandWithImplicitDF": {
     "commandId": 3571946222775384,
     "dataframes": [
      "_sqldf"
     ]
    },
    "pythonIndentUnit": 4
   },
   "notebookName": "Analysis Notebook",
   "widgets": {}
  },
  "colab": {
   "provenance": []
  },
  "kernelspec": {
   "display_name": "Python 3",
   "name": "python3"
  },
  "language_info": {
   "name": "python"
  }
 },
 "nbformat": 4,
 "nbformat_minor": 0
}